{
 "metadata": {
  "language_info": {
   "codemirror_mode": {
    "name": "ipython",
    "version": 3
   },
   "file_extension": ".py",
   "mimetype": "text/x-python",
   "name": "python",
   "nbconvert_exporter": "python",
   "pygments_lexer": "ipython3",
   "version": "3.8.2-final"
  },
  "orig_nbformat": 2,
  "kernelspec": {
   "name": "python38264bitenvvenv1bc97e1efb294b6ab45e7f29ec0af0e7",
   "display_name": "Python 3.8.2 64-bit ('env': venv)"
  }
 },
 "nbformat": 4,
 "nbformat_minor": 2,
 "cells": [
  {
   "cell_type": "markdown",
   "metadata": {
    "tags": []
   },
   "source": [
    "# use ADF to determine whether series is stationary"
   ]
  },
  {
   "source": [
    "## get source Dataframe"
   ],
   "cell_type": "markdown",
   "metadata": {}
  },
  {
   "cell_type": "code",
   "execution_count": 1,
   "metadata": {},
   "outputs": [],
   "source": [
    "def get_ytw():\n",
    "    import nb_credit_spread as cslibrary\n",
    "\n",
    "    cslib = cslibrary.creditspread()\n",
    "    srcfile = r'YTW-All-Values.xlsx'\n",
    "    cs_df = cslib.get_ytw_from_date_delta(srcfile=srcfile, start='2009-01-31')\n",
    "    return cs_df"
   ]
  },
  {
   "cell_type": "code",
   "execution_count": 12,
   "metadata": {
    "tags": []
   },
   "outputs": [
    {
     "output_type": "stream",
     "name": "stdout",
     "text": "statsmodel adf pvalue: 0.05535603133209759\narch adf pvalue: 0.05535603133209759\n"
    }
   ],
   "source": [
    "\n",
    "from statsmodels.tsa.stattools import adfuller\n",
    "print(f\"statsmodel adf pvalue: {adfuller(get_ytw()['CS-Aaa-3MO'].values, regression='ct', autolag='BIC')[1]}\")\n",
    "\n",
    "from arch.unitroot import ADF\n",
    "print(f\"arch adf pvalue: {ADF(y=get_ytw()['CS-Aaa-3MO'].values, trend='ct', method='BIC').pvalue}\")"
   ]
  },
  {
   "cell_type": "code",
   "execution_count": 25,
   "metadata": {
    "tags": []
   },
   "outputs": [
    {
     "output_type": "stream",
     "name": "stderr",
     "text": "/Users/Justin/Desktop/git-hub-justin-grigg/testPythonDissAnalysis/env/lib/python3.8/site-packages/xlrd/xlsx.py:266: DeprecationWarning: This method will be removed in future versions.  Use 'tree.iter()' or 'list(tree.iter())' instead.\n  for elem in self.tree.iter() if Element_has_iter else self.tree.getiterator():\n/Users/Justin/Desktop/git-hub-justin-grigg/testPythonDissAnalysis/env/lib/python3.8/site-packages/xlrd/xlsx.py:312: DeprecationWarning: This method will be removed in future versions.  Use 'tree.iter()' or 'list(tree.iter())' instead.\n  for elem in self.tree.iter() if Element_has_iter else self.tree.getiterator():\n/Users/Justin/Desktop/git-hub-justin-grigg/testPythonDissAnalysis/env/lib/python3.8/site-packages/xlrd/xlsx.py:266: DeprecationWarning: This method will be removed in future versions.  Use 'tree.iter()' or 'list(tree.iter())' instead.\n  for elem in self.tree.iter() if Element_has_iter else self.tree.getiterator():\npvalue: 0.05535603133209759\n"
    }
   ],
   "source": [
    "def stationarity_stats_model(df, column, regression='ct', ic='BIC', signif=0.05):\n",
    "    from statsmodels.tsa.stattools import adfuller\n",
    "    from statsmodels.tsa.stattools import kpss\n",
    "\n",
    "    import warnings\n",
    "    # warnings.filterwarnings('ignore')\n",
    "\n",
    "    adf = adfuller(df[column].values, regression=regression, autolag=ic)\n",
    "    \n",
    "    kps = None\n",
    "    if (regression == 'c') or (regression == 'ct'):\n",
    "        kps = kpss(df[column].values, regression=regression)\n",
    "    \n",
    "    o = { 'column': column, 'signif': signif, 'ic': ic, 'regression': regression, 'adf-pvalue': adf[1], 'kpss-pvalue': kps[1] }\n",
    "    # t = t.append(o, ignore_index=True)\n",
    "    # warnings.simplefilter('always')  # Restore warnings\n",
    "    return o\n",
    "    \n",
    "#o = stationarity_stats_model(df=get_ytw(), column='CS-Aaa-3MO', regression='ct', signif=0.05)\n",
    "#print(o)\n",
    "\n",
    "from statsmodels.tsa.stattools import adfuller\n",
    "adf = adfuller(get_ytw()['CS-Aaa-3MO'].values, regression='ct', autolag='BIC')\n",
    "print(f\"pvalue: {adf[1]}\")\n"
   ]
  },
  {
   "cell_type": "code",
   "execution_count": 31,
   "metadata": {
    "tags": []
   },
   "outputs": [
    {
     "output_type": "stream",
     "name": "stderr",
     "text": "/Users/Justin/Desktop/git-hub-justin-grigg/testPythonDissAnalysis/env/lib/python3.8/site-packages/xlrd/xlsx.py:266: DeprecationWarning: This method will be removed in future versions.  Use 'tree.iter()' or 'list(tree.iter())' instead.\n  for elem in self.tree.iter() if Element_has_iter else self.tree.getiterator():\n/Users/Justin/Desktop/git-hub-justin-grigg/testPythonDissAnalysis/env/lib/python3.8/site-packages/xlrd/xlsx.py:312: DeprecationWarning: This method will be removed in future versions.  Use 'tree.iter()' or 'list(tree.iter())' instead.\n  for elem in self.tree.iter() if Element_has_iter else self.tree.getiterator():\n/Users/Justin/Desktop/git-hub-justin-grigg/testPythonDissAnalysis/env/lib/python3.8/site-packages/xlrd/xlsx.py:266: DeprecationWarning: This method will be removed in future versions.  Use 'tree.iter()' or 'list(tree.iter())' instead.\n  for elem in self.tree.iter() if Element_has_iter else self.tree.getiterator():\n"
    }
   ],
   "source": [
    "def run_stationarity_stats_model():\n",
    "    import pandas as pd\n",
    "    cs_df = get_ytw()\n",
    "    regress = ['ct', 'c']  # 'nc', 'c', 'ct', 'ctt'\n",
    "    ic = 'BIC'\n",
    "    signif = [0.01, 0.05]\n",
    "\n",
    "    stats_results = pd.DataFrame(columns=['column', 'signif', 'ic', 'regression', 'adf-pvalue', 'kpss-pvalue'])\n",
    "    column_prefix = 'CS-'\n",
    "\n",
    "    for col in cs_df.columns:\n",
    "        if col.startswith(column_prefix):\n",
    "            for i in regress:\n",
    "                for j in signif:\n",
    "                    stats = stationarity_stats_model(df=cs_df, column=col, regression=i, ic=ic, signif=j)\n",
    "                    stats_results = stats_results.append(stats, ignore_index=True)\n",
    "\n",
    "    import test_cs_data_analysis as test_cs\n",
    "    import cs_data_analysis as cs\n",
    "    import logging as logger\n",
    "    log = test_cs.setLogger('nb_ADF_unit_root_statsmodel', logger.INFO)\n",
    "    # cs.print_full(stats_results, log)\n",
    "    log.info(stats_results)\n",
    "\n",
    "run_stationarity_stats_model()\n",
    "# print(stats_results)"
   ]
  },
  {
   "cell_type": "code",
   "execution_count": 9,
   "metadata": {
    "tags": []
   },
   "outputs": [
    {
     "output_type": "stream",
     "name": "stdout",
     "text": "{'column': 'CS-DCF-Aaa-3MO-diff', 'signif': 0.05, 'ic': 'BIC', 'regression': 'ct', 'adf-pvalue': 1.0488696583805572e-21, 'kpss-pvalue': None, 'pp-pvalue': 9.35087928818092e-22}\n"
    }
   ],
   "source": [
    "def stationarity_arch(df, column, regression='ct', ic='BIC', signif=0.05):\n",
    "    '''\n",
    "    https://arch.readthedocs.io/en/latest/unitroot/generated/arch.unitroot.ADF.html\n",
    "    arch.unitroot.ADF(y, lags=None, trend='c', max_lags=None, method='AIC', low_memory=None)\n",
    "\n",
    "    https://arch.readthedocs.io/en/latest/unitroot/generated/arch.unitroot.KPSS.html\n",
    "    arch.unitroot.KPSS(y, lags=None, trend='c')\n",
    "\n",
    "    https://arch.readthedocs.io/en/latest/unitroot/generated/arch.unitroot.PhillipsPerron.html\n",
    "    arch.unitroot.PhillipsPerron(y, lags=None, trend='c', test_type='tau')\n",
    "    '''\n",
    "    import warnings\n",
    "    # warnings.filterwarnings('ignore')\n",
    "\n",
    "    from arch.unitroot import ADF\n",
    "    from arch.unitroot import KPSS\n",
    "    from arch.unitroot import PhillipsPerron\n",
    "\n",
    "    # ignore maxlags\n",
    "    adf = ADF(y=df[column].values, trend=regression, method=ic)\n",
    "    # kps = KPSS(y=df[column].values, trend=regression)\n",
    "    pp = PhillipsPerron(y=df[column].values, trend=regression)\n",
    "\n",
    "    # warnings.simplefilter('always')  # Restore warnings\n",
    "    # return { 'column': column, 'signif': signif, 'ic': ic, 'regression': regression, 'adf-pvalue': adf.pvalue, 'adf-stationary': True if adf.pvalue <= signif else False, 'kpss-pvalue': kps.pvalue, 'kpss-stationary': kps.pvalue > signif, 'pp-pvalue': pp.pvalue, 'pp-stationary': pp.pvalue < signif}\n",
    "\n",
    "    return { 'column': column, 'signif': signif, 'ic': ic, 'regression': regression, 'adf-pvalue': adf.pvalue, 'kpss-pvalue': None, 'pp-pvalue': pp.pvalue}\n",
    "\n",
    "    # print(adf.summary().as_text())\n",
    "\n",
    "import pandas as pd\n",
    "t = pd.DataFrame(columns=['column', 'signif', 'ic', 'regression', 'adf-pvalue', 'kpss-pvalue', 'pp-pvalue'])\n",
    "o = stationarity_arch(df=get_ytw(), column='CS-DCF-Aaa-3MO-diff', regression='ct', ic='BIC', signif=0.05)\n",
    "print(o)"
   ]
  },
  {
   "cell_type": "code",
   "execution_count": 11,
   "metadata": {
    "tags": []
   },
   "outputs": [],
   "source": [
    "import pandas as pd\n",
    "cs_df = get_ytw()\n",
    "# pp: n, c, ct\n",
    "# kpss: c, ct\n",
    "# adf: 'nc', 'c', 'ct', 'ctt'\n",
    "regress = ['c', 'ct']\n",
    "regress = ['n']\n",
    "ic = 'BIC'\n",
    "signif = [0.01, 0.05]\n",
    "column_prefix = 'CS-'\n",
    "\n",
    "arch_results = pd.DataFrame(columns=['column', 'signif', 'ic', 'regression', 'adf-pvalue', 'kpss-pvalue', 'pp-pvalue'])\n",
    "\n",
    "for col in cs_df.columns:\n",
    "    if col.startswith(column_prefix):\n",
    "        for i in regress:\n",
    "            for j in signif:\n",
    "                arch = stationarity_arch(df=cs_df, column=col, regression=i, ic=ic, signif=j)\n",
    "                arch_results = arch_results.append(arch, ignore_index=True)\n",
    "\n",
    "import test_cs_data_analysis as test_cs\n",
    "import cs_data_analysis as cs\n",
    "import logging as logger\n",
    "log = test_cs.setLogger('nb_ADF_unit_root_arch', logger.INFO)\n",
    "cs.print_full(arch_results, log)\n",
    "# print(arch_results)"
   ]
  },
  {
   "source": [
    "## KPSS test"
   ],
   "cell_type": "markdown",
   "metadata": {}
  },
  {
   "cell_type": "code",
   "execution_count": null,
   "metadata": {
    "tags": []
   },
   "outputs": [],
   "source": [
    "from statsmodels.tsa.stattools import kpss\n",
    "import pandas as pd\n",
    "cs_df = get_ytw()\n",
    "regress = ['nc', 'ct']  # 'nc', 'c', 'ct', 'ctt'\n",
    "auto_lag = 'BIC'\n",
    "signif = [0.05, 0.01]\n",
    "\n",
    "t = pd.DataFrame(columns=['column', 'p-value', 'signif','regression'])\n",
    "column_prefix = 'CS-'\n",
    "\n",
    "for col_data in cs_df.columns:\n",
    "    if col_data.startswith(column_prefix):\n",
    "        for j in signif:\n",
    "            for i in regress:\n",
    "                r = kpss(cs_df[col_data].values, regression=i, nlags=\"auto\")\n",
    "                # r = adfuller(cs_df[col_data].values, maxlag=40, regression=i, autolag=auto_lag)\n",
    "                if r[1] > j:  # p_value\n",
    "                    statement = f\"{col_data} Series Stationary. Null Hypothesis Rejecting. {r[1]} <= {j}. regression {i}\"\n",
    "                else:\n",
    "                    statement = f\"{col_data} Series Non-stationary. Null Hypothesis Weak evidence reject. {r[1]} <= {j}. regression {i}\"\n",
    "                # print(statement)\n",
    "                o = { 'column': col_data, 'p-value': r[0], 'signif': j, 'regression': i, 'stationary': True if r[1] <= j else False }\n",
    "                t = t.append(o, ignore_index=True)\n",
    "\n",
    "print(t)"
   ]
  },
  {
   "cell_type": "code",
   "execution_count": null,
   "metadata": {},
   "outputs": [],
   "source": [
    "def kpss_test(timeseries):\n",
    "    '''\n",
    "    Null Hypothesis: The process is trend stationary.\n",
    "    Alternate Hypothesis: The series has a unit root (series is not stationary).\n",
    "    \n",
    "    if pvalue < 5% cannot reject Null. Conclude series is stationary\n",
    "\n",
    "    Based upon the significance level of 0.05 and the p-value of ADF test, the null hypothesis can not be rejected. Hence, the series is non-stationary.\n",
    "    '''\n",
    "    import pandas as pd\n",
    "    from statsmodels.tsa.stattools import kpss\n",
    "\n",
    "    print ('Results of KPSS Test:')\n",
    "    kpsstest = kpss(timeseries, regression='c', nlags=\"auto\")\n",
    "    pvalue = kpsstest[1]\n",
    "    kpss_output = pd.Series(kpsstest[0:3], index=['Test Statistic','p-value','Lags Used'])\n",
    "    for key,value in kpsstest[3].items():\n",
    "        kpss_output['Critical Value (%s)'%key] = value\n",
    "    print (kpss_output)\n",
    "    if pvalue > 0.05:\n",
    "        print(f\"{'+'*10} {pvalue} > 0.05. reject null. series is stationary {'+'*10}\")\n",
    "    else:\n",
    "        print(f\"{'*'*10} series is non-stationary {'*'*10}\")"
   ]
  },
  {
   "cell_type": "code",
   "execution_count": null,
   "metadata": {
    "tags": []
   },
   "outputs": [],
   "source": [
    "from statsmodels.tsa.stattools import adfuller\n",
    "'''\n",
    " CS-Aaa-3MO\t CS-Aa-3MO\t CS-A-3MO\t CS-Baa-3MO\t CS-Aaa-1YR\t CS-Aa-1YR\t CS-A-1YR\t CS-Baa-1YR\t CS-Aaa-5YR\t CS-Aa-5YR\t CS-A-5YR\t CS-Baa-5YR\t\t \n",
    " TB-3MO-TY\t TB-1YR-TY\t TB-5YR-TY\n",
    "'''\n",
    "\n",
    "import nb_credit_spread as cslibrary\n",
    "cslib = cslibrary.creditspread()\n",
    "\n",
    "ytw = cslib.get_ytw_from_date(start=start_date)\n",
    "print(ytw.shape)\n",
    "\n",
    "# start='2009-01-31' on level\n",
    "# TB-3MO-TY stationary at 5% on level. 1 and 5 year not stationary\n",
    "# CS-3MO : CS-Aa-3MO, CA-A-3MO stationary at 10% on level. other CS not stationary\n",
    "# CS-1YR : CS-A-1YR stationary at 5% on level. other CS not stationary\n",
    "# CS-5YR : not stationary\n",
    "\n",
    "# start='2009-01-31' first diff\n",
    "# TB - 3 month, 1 and 5 year not stationary\n",
    "# CS-3MO\n",
    "#   CS-Aaa-3MO. stationary at 1% lags 3\n",
    "#   CS-Aa-3MO. stationary at 1% lags 3\n",
    "#   CS-A-3MO. stationary at 1% lags 3\n",
    "#   CS-Baa-3MO. stationary at 5% lags 8\n",
    "# CS-1YR\n",
    "#   CS-Aaa-1YR. stationary at 1% lags 1\n",
    "#   CS-Aa-1YR. stationary at 1% lags 0 ??\n",
    "#   CS-A-1YR. stationary at 1% lags 3\n",
    "#   CS-Baa-1YR. stationary at 1% lags 3\n",
    "# CS-5YR\n",
    "#   CS-Aaa-5YR. stationary at 1% lags 6\n",
    "#   CS-Aa-5YR. stationary at 1% lags 13\n",
    "#   CS-A-5YR. stationary at 1% lags 13\n",
    "#   CS-Baa-5YR. stationary at 1% lags 13\n",
    "\n",
    "col = 'CS-Aaa-3MO'\n",
    "cs = ytw[col]\n",
    "# https://www.statsmodels.org/dev/generated/statsmodels.tsa.stattools.adfuller.html\n",
    "# regression{“c”,”ct”,”ctt”,”nc”} # nc = no constant, no trend\n",
    "# autolag{“AIC”, “BIC”, “t-stat”, None}\n",
    "data = cs.diff(periods=1).dropna()\n",
    "result = adfuller(x=data, regression=\"ct\", autolag='BIC')\n",
    "\n",
    "adf_stat = result[0]\n",
    "print(f\"ADF Statistic: {result[0]}. p-value: {result[1]}. lags used {result[2]}. obs {result[3]}\")\n",
    "print('Critical Values:')\n",
    "\n",
    "# We can see that our statistic value of -4 is less than the value of -3.449 at 1%.\n",
    "# This suggests that we can reject the null hypothesis with a significance level of less than 1% (i.e. a low probability that the result is a statistical fluke).\n",
    "\n",
    "# if ADF Statistic is less that critcal value, then reject null at significance\n",
    "# Rejecting the null hypothesis means that the process has no unit root, and in turn that the time series is stationary or does not have time-dependent structure\n",
    "\n",
    "for key, value in result[4].items():\n",
    "\t# print('\\t%s: %.3f' % (key, value))\n",
    "    if adf_stat < value:\n",
    "        print(f\"is stationary. reject at {key}. {adf_stat} < {value}. {col} no unit root\")\n",
    "    else:\n",
    "        print(f\"not stationary. not reject at {key}. {adf_stat} > {value}. {col} has unit root\")\n",
    "\n",
    "print(result)"
   ]
  },
  {
   "cell_type": "code",
   "execution_count": null,
   "metadata": {
    "tags": []
   },
   "outputs": [],
   "source": [
    "result = adfuller(x=data, regression=\"ct\", autolag='BIC', maxlag=40)\n",
    "print('ADF Statistic: %f' % result[0])\n",
    "print('p-value: %f' % result[1])\n",
    "print('Critical Values:')\n",
    "for key, value in result[4].items():\n",
    "\tprint('\\t%s: %.3f' % (key, value))\n",
    "print(result)"
   ]
  }
 ]
}