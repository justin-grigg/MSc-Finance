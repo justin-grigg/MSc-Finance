{
 "metadata": {
  "language_info": {
   "codemirror_mode": {
    "name": "ipython",
    "version": 3
   },
   "file_extension": ".py",
   "mimetype": "text/x-python",
   "name": "python",
   "nbconvert_exporter": "python",
   "pygments_lexer": "ipython3",
   "version": "3.8.2-final"
  },
  "orig_nbformat": 2,
  "kernelspec": {
   "name": "python_defaultSpec_1600952945346",
   "display_name": "Python 3.8.2 64-bit ('env': venv)"
  }
 },
 "nbformat": 4,
 "nbformat_minor": 2,
 "cells": [
  {
   "cell_type": "code",
   "execution_count": 14,
   "metadata": {},
   "outputs": [],
   "source": [
    "def get_ytw():\n",
    "    import nb_credit_spread as cslibrary\n",
    "\n",
    "    cslib = cslibrary.creditspread()\n",
    "    srcfile = r'YTW-All-Values.xlsx'\n",
    "    cs_df = cslib.get_ytw_from_date_delta(srcfile=srcfile, start='2009-01-31')\n",
    "    \n",
    "    return cs_df"
   ]
  },
  {
   "cell_type": "code",
   "execution_count": 15,
   "metadata": {
    "tags": []
   },
   "outputs": [
    {
     "output_type": "stream",
     "name": "stdout",
     "text": "feature       VIF\n0    CS-Aaa-3MO-diff  1.009278\n1   Econ-UNRATE-diff  1.023424\n2  Econ-DSPIC96-diff  1.019457\n"
    }
   ],
   "source": [
    "from statsmodels.stats.outliers_influence import variance_inflation_factor\n",
    "df = get_ytw()\n",
    "\n",
    "# print(df.head(2))\n",
    "df = df[ ['CS-Aaa-3MO', 'CS-Aaa-1YR', 'CS-Aaa-5YR'] ]\n",
    "# Econ-UNRATE\tEcon-DSPIC96\tEcon-CPIAUCSL\tEcon-CPILFESL\tEcon-INDPRO\tEcon-PCE\n",
    "\n",
    "df = get_ytw()[ [ 'CS-Aaa-3MO-diff', 'Econ-UNRATE-diff', 'Econ-DSPIC96-diff'] ]# ,\t'Econ-DSPIC96', 'Econ-CPIAUCSL'] ] #, 'Econ-CPILFESL', 'Econ-INDPRO', 'Econ-PCE' ] ]\n",
    "\n",
    "X = df\n",
    "\n",
    "import pandas as pd\n",
    "\n",
    "vif_data = pd.DataFrame() \n",
    "vif_data[\"feature\"] = df.columns \n",
    "\n",
    "# variance_inflation_factor(exog=df['CS-Aaa-3MO'], exog_idx=\n",
    "\n",
    "vif_data[\"VIF\"] = [variance_inflation_factor(X.values, i) \n",
    "                          for i in range(len(X.columns))]\n",
    "\n",
    "print(vif_data)"
   ]
  },
  {
   "cell_type": "code",
   "execution_count": 16,
   "metadata": {},
   "outputs": [],
   "source": [
    "from statsmodels.tsa.arima_model import ARIMA\n",
    "from pmdarima.arima import auto_arima\n",
    "\n"
   ]
  },
  {
   "cell_type": "code",
   "execution_count": null,
   "metadata": {},
   "outputs": [],
   "source": []
  }
 ]
}