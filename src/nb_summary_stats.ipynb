{
 "metadata": {
  "language_info": {
   "codemirror_mode": {
    "name": "ipython",
    "version": 3
   },
   "file_extension": ".py",
   "mimetype": "text/x-python",
   "name": "python",
   "nbconvert_exporter": "python",
   "pygments_lexer": "ipython3",
   "version": "3.8.2-final"
  },
  "orig_nbformat": 2,
  "kernelspec": {
   "name": "python38264bitenvvenv1bc97e1efb294b6ab45e7f29ec0af0e7",
   "display_name": "Python 3.8.2 64-bit ('env': venv)"
  }
 },
 "nbformat": 4,
 "nbformat_minor": 2,
 "cells": [
  {
   "source": [
    "# Summary stats"
   ],
   "cell_type": "markdown",
   "metadata": {}
  },
  {
   "cell_type": "code",
   "execution_count": 18,
   "metadata": {},
   "outputs": [],
   "source": [
    "def get_ytw():\n",
    "    import nb_credit_spread as cslibrary\n",
    "\n",
    "    cslib = cslibrary.creditspread()\n",
    "    srcfile = r'YTW-All-Values.xlsx'\n",
    "    cs_df = cslib.get_ytw_from_date_delta(srcfile=srcfile, start='2009-01-31')\n",
    "    cs_df = cslib.get_ytw_from_date_delta(srcfile=srcfile)\n",
    "    return cs_df"
   ]
  },
  {
   "cell_type": "code",
   "execution_count": 19,
   "metadata": {
    "tags": []
   },
   "outputs": [],
   "source": [
    "def summary_stats(cs_data):\n",
    "    '''\n",
    "    return summary stats (mean min, max, stddev) as dataframe\n",
    "    '''\n",
    "    import numpy as np\n",
    "    import pandas as pd\n",
    "\n",
    "    cs_df = cs_data\n",
    "    cs_mean = cs_df.mean(axis=0)\n",
    "    cs_stddev = np.std(cs_df, axis=0)\n",
    "    cs_min = cs_df.min(axis=0)\n",
    "    cs_max = cs_df.max(axis=0)\n",
    "    cs_obs = cs_df.count(axis=0)\n",
    "    cs_stat_df = pd.concat([cs_obs, cs_mean, cs_stddev, cs_min, cs_max], axis=1)\n",
    "    cs_stat_df.columns = ['obs', 'mean', 'stddev', 'min', 'max']\n",
    "    \n",
    "    return cs_stat_df\n",
    "\n",
    "import test_cs_data_analysis as test_cs\n",
    "import cs_data_analysis as cs\n",
    "import logging as logger\n",
    "log = test_cs.setLogger('nb_summary_stats_stats', logger.INFO)\n",
    "cs.print_full(summary_stats(get_ytw()), log)"
   ]
  },
  {
   "cell_type": "code",
   "execution_count": 21,
   "metadata": {},
   "outputs": [],
   "source": [
    "def summary_stats_full(cs_data):\n",
    "    '''\n",
    "    '''\n",
    "    cs = cs_data\n",
    "    cs_p0 = cs.describe(include='all').T\n",
    "    # cs_p0.set_index(cs_p0.columns[0], inplace=True)  # set first column as index\n",
    "\n",
    "    # cs_diff = cs.diff(periods=1)\n",
    "    # cs_p1 = cs_diff.describe(include='all').T\n",
    "    # cs_p1.set_index(cs_p1.columns[0], inplace=True)  # set first column as index\n",
    "\n",
    "    return cs_p0 # , cs_p1\n",
    "\n",
    "import test_cs_data_analysis as test_cs\n",
    "import cs_data_analysis as cs\n",
    "import logging as logger\n",
    "log = test_cs.setLogger('nb_summary_stats_full_stats', logger.INFO)\n",
    "cs.print_full(summary_stats_full(get_ytw()), log)"
   ]
  },
  {
   "cell_type": "code",
   "execution_count": 20,
   "metadata": {
    "tags": []
   },
   "outputs": [
    {
     "output_type": "stream",
     "name": "stderr",
     "text": "/Users/Justin/Desktop/git-hub-justin-grigg/testPythonDissAnalysis/env/lib/python3.8/site-packages/statsmodels/base/model.py:547: HessianInversionWarning: Inverting hessian failed, no bse or cov_params available\n  warnings.warn('Inverting hessian failed, no bse or cov_params '\n"
    }
   ],
   "source": [
    "def arima_for_ar(cs_df):\n",
    "    import pandas as pd\n",
    "    from statsmodels.tsa.arima_model import ARIMA\n",
    "    \n",
    "    result = pd.DataFrame(columns=['column', 'const.coef', 'ar(1)'])\n",
    "\n",
    "    column_prefix = 'C'\n",
    "\n",
    "    for col in cs_df.columns:\n",
    "        # if col.startswith(column_prefix):    \n",
    "            ar_model = ARIMA(endog=cs_df[col].values, order=(1,0,0)) # AR(1)\n",
    "            ar_result = ar_model.fit(disp=False)\n",
    "            ar = { 'column': col, 'const.coef': ar_result.params[0], 'ar(1)': ar_result.params[1]}\n",
    "            result = result.append(ar, ignore_index=True)\n",
    "    return result\n",
    "\n",
    "import test_cs_data_analysis as test_cs\n",
    "import cs_data_analysis as cs\n",
    "import logging as logger\n",
    "log = test_cs.setLogger('nb_summary_stats_ar', logger.INFO)\n",
    "cs.print_full(arima_for_ar(get_ytw()), log)"
   ]
  },
  {
   "cell_type": "code",
   "execution_count": null,
   "metadata": {},
   "outputs": [],
   "source": []
  }
 ]
}