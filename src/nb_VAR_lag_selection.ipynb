{
 "metadata": {
  "language_info": {
   "codemirror_mode": {
    "name": "ipython",
    "version": 3
   },
   "file_extension": ".py",
   "mimetype": "text/x-python",
   "name": "python",
   "nbconvert_exporter": "python",
   "pygments_lexer": "ipython3",
   "version": "3.8.2-final"
  },
  "orig_nbformat": 2,
  "kernelspec": {
   "name": "python38264bitenvvenv1bc97e1efb294b6ab45e7f29ec0af0e7",
   "display_name": "Python 3.8.2 64-bit ('env': venv)"
  }
 },
 "nbformat": 4,
 "nbformat_minor": 2,
 "cells": [
  {
   "cell_type": "markdown",
   "metadata": {},
   "source": [
    "# Determine optimal lag based on VAR\n",
    "#### total range: 1988-08-31 to 2019-12-31\n",
    "#### analysis range: 1990-01-31 to 2019-07-31\n",
    "#### training: 2017-01-01 to 2017-12-31\n",
    "#### predict: 2018-01-01 to 2018-12-31\n",
    "## CS-Aaa-3MO CS-Aa-3MO CS-A-3MO CS-Baa-3MO CS-Aaa-1YR CS-Aa-1YR CS-A-1YR CS-Baa-1YR CS-Aaa-5YR CS-Aa-5YR CS-A-5YR CS-Baa-5YR\n",
    "## TB-3MO-TY TB-1YR-TY TB-5YR-TY"
   ]
  },
  {
   "cell_type": "code",
   "execution_count": 1,
   "metadata": {},
   "outputs": [],
   "source": [
    "start_date = '2009-01-31' #1990-01-31' # '2009-01-31'\n",
    "import nb_credit_spread as cslibrary\n",
    "cslib = cslibrary.creditspread()"
   ]
  },
  {
   "cell_type": "code",
   "execution_count": 24,
   "metadata": {
    "tags": []
   },
   "outputs": [
    {
     "output_type": "stream",
     "name": "stdout",
     "text": "(355, 28)\n(127, 28)\n['CS-Aaa-3MO']\n"
    }
   ],
   "source": [
    "\n",
    "ytw = cslib.get_ytw_from_date(start='1990-01-31', srcfile='YTW-All-Values.xlsx')\n",
    "print(ytw.shape)\n",
    "\n",
    "ytw = cslib.get_ytw_from_date(start=start_date, srcfile='YTW-All-Values.xlsx')\n",
    "print(ytw.shape)\n",
    "period = '3MO' # 3MO, 1YR, 5YR\n",
    "corp = 'Aaa'\n",
    "cols = [f'CS-{corp}-{period}' ,f'TB-{period}-TY']\n",
    "cols = [f'CS-{corp}-{period}']\n",
    "\n",
    "print(cols)\n",
    "endog = ytw[cols]"
   ]
  },
  {
   "cell_type": "code",
   "execution_count": 26,
   "metadata": {},
   "outputs": [],
   "source": [
    "def lag_VAR_selection(columns):\n",
    "    '''\n",
    "    get optimal lag using VAR; with 2 column vector\n",
    "    '''\n",
    "    from statsmodels.tsa.api import VAR\n",
    "    import numpy as np\n",
    "\n",
    "    endog = columns\n",
    "\n",
    "    num = 30\n",
    "    bic = np.zeros(shape=(num, 1))\n",
    "    aic = np.zeros(shape=(num, 1))\n",
    "    hqic = np.zeros(shape=(num, 1))\n",
    "\n",
    "    for i in range(num):\n",
    "        # model_fit = VAR(endog=endog).fit(maxlags=i + 1, verbose=True)\n",
    "        model_fit = VAR(endog=endog).fit(maxlags=i + 1, trend='ct')\n",
    "        # AIC, BIC, HQIC\n",
    "        # print(f'order: {order} bic: {model_fit.bic}')\n",
    "        bic[i] = model_fit.bic  # update poistion with info criteria result\n",
    "        aic[i] = model_fit.aic\n",
    "        hqic[i] = model_fit.hqic\n",
    "\n",
    "    bic_min, aic_min, hqic_mid = np.min(bic), np.min(aic), np.min(hqic)\n",
    "    bic_model_min, aic_model_min, hqic_model_min = np.argmin(bic), np.argmin(aic), np.argmin(hqic)\n",
    "\n",
    "    # print('relative likelihood')\n",
    "    #print(np.exp((info_crit_min - info_crit) / 2))\n",
    "    #print('parameters in minimum model %s' % (model_min + 1))\n",
    "    return aic_model_min + 1, bic_model_min + 1, hqic_model_min + 1"
   ]
  },
  {
   "cell_type": "code",
   "execution_count": 28,
   "metadata": {
    "tags": []
   },
   "outputs": [
    {
     "output_type": "stream",
     "name": "stdout",
     "text": "(127, 28)\n"
    }
   ],
   "source": [
    "ytw = cslib.get_ytw_from_date(start=start_date)\n",
    "print(ytw.shape)\n",
    "period = '3MO' # 3MO, 1YR, 5YR\n",
    "corp = 'Baa'\n",
    "column = f'CS-{corp}-{period}'\n",
    "cols = [column] #  ,f'TB-{period}-TY'] # only one column for ARIMA\n",
    "# print(f'column: {column} lag: {lag_ARIMA_selection(ytw[cols])}')"
   ]
  },
  {
   "cell_type": "code",
   "execution_count": 29,
   "metadata": {},
   "outputs": [],
   "source": [
    "def get_best_lag(corp, period, ytw):\n",
    "    '''\n",
    "    find optimum lag based on optimum VAR BIC\n",
    "    '''\n",
    "    # print(ytw.shape)\n",
    "\n",
    "    cs = f'CS-{corp}-{period}'\n",
    "    tb = f'TB-{period}-TY'\n",
    "\n",
    "    cols = ytw[[cs, tb]] #  ,f'TB-{period}-TY'] # only one column for ARIMA\n",
    "    aic, bic, hqic = lag_VAR_selection(cols)\n",
    "    ic_results = []\n",
    "    ic_results.append([cs, tb, aic, bic, hqic])\n",
    "    return ic_results"
   ]
  },
  {
   "cell_type": "code",
   "execution_count": 30,
   "metadata": {
    "tags": []
   },
   "outputs": [
    {
     "output_type": "stream",
     "name": "stdout",
     "text": "determine best ic. start date: 2009-01-31\n[['CS-Aaa-3MO', 'TB-3MO-TY', 30, 3, 3]] :\n[['CS-Aa-3MO', 'TB-3MO-TY', 29, 1, 4]] :\n[['CS-A-3MO', 'TB-3MO-TY', 8, 2, 5]] :\n[['CS-Baa-3MO', 'TB-3MO-TY', 8, 3, 4]] :\n[['CS-Aaa-1YR', 'TB-1YR-TY', 30, 4, 4]] :\n[['CS-Aa-1YR', 'TB-1YR-TY', 4, 4, 4]] :\n[['CS-A-1YR', 'TB-1YR-TY', 5, 4, 5]] :\n[['CS-Baa-1YR', 'TB-1YR-TY', 5, 4, 4]] :\n[['CS-Aaa-5YR', 'TB-5YR-TY', 5, 3, 3]] :\n[['CS-Aa-5YR', 'TB-5YR-TY', 30, 3, 5]] :\n[['CS-A-5YR', 'TB-5YR-TY', 30, 3, 5]] :\n[['CS-Baa-5YR', 'TB-5YR-TY', 30, 3, 5]] :\n"
    },
    {
     "output_type": "execute_result",
     "data": {
      "text/plain": "\"\\nimport pandas as pd\\npd.DataFrame(data=)\\nres = pd.DataFrame(data=ic_results, columns=('cs', 'aic', 'bic', 'hqic'))\\n\\n\\nprint(f'df head: {res.head()}')\\n\\nperiod = '5YR' # 3MO, 1YR, 5YR\\n    corp = 'Aaa'\\n\\nget_best_lag\\n\\nprint(f'column: {cs} optimal lag - aic: {aic} bic: {bic} hqic: {hqic}')\\n\\n# add ic results to an array to append to dataframe\\n\""
     },
     "metadata": {},
     "execution_count": 30
    }
   ],
   "source": [
    "\n",
    "ytw = cslib.get_ytw_from_date(start=start_date, srcfile='YTW-All-Values.xlsx')\n",
    "\n",
    "print(f'determine best ic. start date: {start_date}')\n",
    "print(f\"{get_best_lag('Aaa', '3MO', ytw)} :\")\n",
    "print(f\"{get_best_lag('Aa', '3MO', ytw)} :\")\n",
    "print(f\"{get_best_lag('A', '3MO', ytw)} :\")\n",
    "print(f\"{get_best_lag('Baa', '3MO', ytw)} :\")\n",
    "\n",
    "print(f\"{get_best_lag('Aaa', '1YR', ytw)} :\")\n",
    "print(f\"{get_best_lag('Aa', '1YR', ytw)} :\")\n",
    "print(f\"{get_best_lag('A', '1YR', ytw)} :\")\n",
    "print(f\"{get_best_lag('Baa', '1YR', ytw)} :\")\n",
    "\n",
    "print(f\"{get_best_lag('Aaa', '5YR', ytw)} :\")\n",
    "print(f\"{get_best_lag('Aa', '5YR', ytw)} :\")\n",
    "print(f\"{get_best_lag('A', '5YR', ytw)} :\")\n",
    "print(f\"{get_best_lag('Baa', '5YR', ytw)} :\")\n",
    "\n",
    "'''\n",
    "import pandas as pd\n",
    "pd.DataFrame(data=)\n",
    "res = pd.DataFrame(data=ic_results, columns=('cs', 'aic', 'bic', 'hqic'))\n",
    "\n",
    "\n",
    "print(f'df head: {res.head()}')\n",
    "\n",
    "period = '5YR' # 3MO, 1YR, 5YR\n",
    "    corp = 'Aaa'\n",
    "\n",
    "get_best_lag\n",
    "\n",
    "print(f'column: {cs} optimal lag - aic: {aic} bic: {bic} hqic: {hqic}')\n",
    "\n",
    "# add ic results to an array to append to dataframe\n",
    "'''"
   ]
  },
  {
   "cell_type": "markdown",
   "metadata": {},
   "source": [
    "### call VAR with maxlags to return t-stat and p-value"
   ]
  },
  {
   "cell_type": "code",
   "execution_count": 1,
   "metadata": {},
   "outputs": [
    {
     "output_type": "error",
     "ename": "NameError",
     "evalue": "name 'cslib' is not defined",
     "traceback": [
      "\u001b[0;31m---------------------------------------------------------------------------\u001b[0m",
      "\u001b[0;31mNameError\u001b[0m                                 Traceback (most recent call last)",
      "\u001b[0;32m<ipython-input-1-57c702dea442>\u001b[0m in \u001b[0;36m<module>\u001b[0;34m\u001b[0m\n\u001b[1;32m      5\u001b[0m \u001b[0;32mimport\u001b[0m \u001b[0mnumpy\u001b[0m \u001b[0;32mas\u001b[0m \u001b[0mnp\u001b[0m\u001b[0;34m\u001b[0m\u001b[0;34m\u001b[0m\u001b[0m\n\u001b[1;32m      6\u001b[0m \u001b[0;34m\u001b[0m\u001b[0m\n\u001b[0;32m----> 7\u001b[0;31m \u001b[0mytw\u001b[0m \u001b[0;34m=\u001b[0m \u001b[0mcslib\u001b[0m\u001b[0;34m.\u001b[0m\u001b[0mget_ytw_from_date\u001b[0m\u001b[0;34m(\u001b[0m\u001b[0mstart\u001b[0m\u001b[0;34m=\u001b[0m\u001b[0mstart_date\u001b[0m\u001b[0;34m,\u001b[0m \u001b[0msrcfile\u001b[0m\u001b[0;34m=\u001b[0m\u001b[0;34m'YTW-All-Values.xlsx'\u001b[0m\u001b[0;34m)\u001b[0m\u001b[0;34m\u001b[0m\u001b[0;34m\u001b[0m\u001b[0m\n\u001b[0m\u001b[1;32m      8\u001b[0m \u001b[0mcs\u001b[0m\u001b[0;34m,\u001b[0m \u001b[0mtb\u001b[0m\u001b[0;34m,\u001b[0m \u001b[0mopt_aic\u001b[0m \u001b[0;34m=\u001b[0m \u001b[0;34m'CS-Aaa-3MO'\u001b[0m\u001b[0;34m,\u001b[0m \u001b[0;34m'TB-3MO-TY'\u001b[0m\u001b[0;34m,\u001b[0m \u001b[0;36m3\u001b[0m\u001b[0;34m\u001b[0m\u001b[0;34m\u001b[0m\u001b[0m\n\u001b[1;32m      9\u001b[0m \u001b[0;34m\u001b[0m\u001b[0m\n",
      "\u001b[0;31mNameError\u001b[0m: name 'cslib' is not defined"
     ]
    }
   ],
   "source": [
    "'''\n",
    "call VAR with maxlags to return t-stat and p-value\n",
    "'''\n",
    "from statsmodels.tsa.api import VAR\n",
    "import numpy as np\n",
    "\n",
    "ytw = cslib.get_ytw_from_date(start=start_date, srcfile='YTW-All-Values.xlsx')\n",
    "cs, tb, opt_aic = 'CS-Aaa-3MO', 'TB-3MO-TY', 3\n",
    "\n",
    "endog = ytw[[cs, tb]]\n",
    "model_fit = VAR(endog=endog).fit(maxlags=opt_aic, trend='ct', verbose=True)\n",
    "model_fit.summary()"
   ]
  },
  {
   "cell_type": "code",
   "execution_count": 32,
   "metadata": {
    "tags": []
   },
   "outputs": [
    {
     "output_type": "stream",
     "name": "stdout",
     "text": "/Users/Justin/Desktop/git-hub-justin-grigg/testPythonDissAnalysis/src\n"
    }
   ],
   "source": [
    "!pwd"
   ]
  }
 ]
}