{
 "metadata": {
  "language_info": {
   "codemirror_mode": {
    "name": "ipython",
    "version": 3
   },
   "file_extension": ".py",
   "mimetype": "text/x-python",
   "name": "python",
   "nbconvert_exporter": "python",
   "pygments_lexer": "ipython3",
   "version": "3.8.2-final"
  },
  "orig_nbformat": 2,
  "kernelspec": {
   "name": "python38264bitenvvenv1bc97e1efb294b6ab45e7f29ec0af0e7",
   "display_name": "Python 3.8.2 64-bit ('env': venv)"
  }
 },
 "nbformat": 4,
 "nbformat_minor": 2,
 "cells": [
  {
   "source": [
    "# ARIMA lag selection\n",
    "# Determine optimal lag based on ARIMA\n",
    "#### total range: 1988-08-31 to 2019-12-31\n",
    "#### analysis range: 1990-01-31 to 2019-07-31\n",
    "#### training: 2017-01-01 to 2017-12-31\n",
    "#### predict: 2018-01-01 to 2018-12-31\n",
    "## CS-Aaa-3MO CS-Aa-3MO CS-A-3MO CS-Baa-3MO CS-Aaa-1YR CS-Aa-1YR CS-A-1YR CS-Baa-1YR CS-Aaa-5YR CS-Aa-5YR CS-A-5YR CS-Baa-5YR\n",
    "## TB-3MO-TY TB-1YR-TY TB-5YR-TY"
   ],
   "cell_type": "markdown",
   "metadata": {}
  },
  {
   "cell_type": "code",
   "execution_count": 2,
   "metadata": {},
   "outputs": [],
   "source": [
    "def get_ytw():\n",
    "    import nb_credit_spread as cslibrary\n",
    "\n",
    "    cslib = cslibrary.creditspread()\n",
    "    srcfile = r'YTW-All-Values.xlsx'\n",
    "    cs_df = cslib.get_ytw_from_date_delta(srcfile=srcfile, start='2009-01-31')\n",
    "    return cs_df\n",
    "    "
   ]
  },
  {
   "cell_type": "code",
   "execution_count": 3,
   "metadata": {},
   "outputs": [],
   "source": [
    "def arima_model():\n",
    "    from statsmodels.tsa.arima.model import ARIMA\n",
    "    import numpy as np\n",
    "    model = ARIMA(endog=endog, order=(1, 0, 0),  trend='ct')\n",
    "    model_fit = model.fit()\n",
    "    model_fit.summary()"
   ]
  },
  {
   "cell_type": "code",
   "execution_count": 37,
   "metadata": {
    "tags": []
   },
   "outputs": [
    {
     "output_type": "stream",
     "name": "stdout",
     "text": "CS-Aaa-3MO checking (1, 1, 0) trend None\nCS-Aaa-3MO checking (2, 1, 0) trend None\nCS-Aaa-3MO checking (3, 1, 0) trend None\nCS-Aaa-3MO checking (4, 1, 0) trend None\nCS-Aaa-3MO checking (5, 1, 0) trend None\nCS-Aaa-3MO checking (6, 1, 0) trend None\nCS-Aaa-3MO checking (7, 1, 0) trend None\nCS-Aaa-3MO checking (8, 1, 0) trend None\nCS-Aaa-3MO checking (9, 1, 0) trend None\nCS-Aaa-3MO checking (10, 1, 0) trend None\nCS-Aaa-3MO minimum parameters model for AR: 2 relative likelihoods [[1.71201075e-01]\n [1.00000000e+00]\n [6.25121449e-01]\n [6.16999816e-02]\n [8.23205303e-03]\n [9.46670145e-04]\n [1.53117997e-04]\n [1.70051083e-05]\n [3.66038534e-06]\n [1.30476073e-06]]\nCS-Aaa-1YR checking (1, 1, 0) trend None\nCS-Aaa-1YR checking (2, 1, 0) trend None\nCS-Aaa-1YR checking (3, 1, 0) trend None\nCS-Aaa-1YR checking (4, 1, 0) trend None\nCS-Aaa-1YR checking (5, 1, 0) trend None\nCS-Aaa-1YR checking (6, 1, 0) trend None\nCS-Aaa-1YR checking (7, 1, 0) trend None\nCS-Aaa-1YR checking (8, 1, 0) trend None\nCS-Aaa-1YR checking (9, 1, 0) trend None\nCS-Aaa-1YR checking (10, 1, 0) trend None\nCS-Aaa-1YR minimum parameters model for AR: 2 relative likelihoods [[7.78956510e-02]\n [1.00000000e+00]\n [3.04157210e-01]\n [3.52865230e-02]\n [3.49811738e-03]\n [3.93456824e-04]\n [4.60502262e-05]\n [4.60608910e-06]\n [5.50915004e-07]\n [5.73550059e-08]]\nCS-Aaa-5YR checking (1, 1, 0) trend None\nCS-Aaa-5YR checking (2, 1, 0) trend None\nCS-Aaa-5YR checking (3, 1, 0) trend None\nCS-Aaa-5YR checking (4, 1, 0) trend None\nCS-Aaa-5YR checking (5, 1, 0) trend None\nCS-Aaa-5YR checking (6, 1, 0) trend None\nCS-Aaa-5YR checking (7, 1, 0) trend None\nCS-Aaa-5YR checking (8, 1, 0) trend None\n/Users/Justin/Desktop/git-hub-justin-grigg/testPythonDissAnalysis/env/lib/python3.8/site-packages/statsmodels/base/model.py:566: ConvergenceWarning: Maximum Likelihood optimization failed to converge. Check mle_retvals\n  warnings.warn(\"Maximum Likelihood optimization failed to \"\nCS-Aaa-5YR checking (9, 1, 0) trend None\n/Users/Justin/Desktop/git-hub-justin-grigg/testPythonDissAnalysis/env/lib/python3.8/site-packages/statsmodels/base/model.py:566: ConvergenceWarning: Maximum Likelihood optimization failed to converge. Check mle_retvals\n  warnings.warn(\"Maximum Likelihood optimization failed to \"\nCS-Aaa-5YR checking (10, 1, 0) trend None\nCS-Aaa-5YR minimum parameters model for AR: 4 relative likelihoods [[4.30224879e-02]\n [2.00454174e-04]\n [4.95682006e-01]\n [1.00000000e+00]\n [9.04069536e-02]\n [2.47979996e-02]\n [2.46203424e-03]\n [2.36872036e-04]\n [1.07846195e-04]\n [1.24497503e-05]]\nCS-Aa-3MO checking (1, 1, 0) trend None\nCS-Aa-3MO checking (2, 1, 0) trend None\nCS-Aa-3MO checking (3, 1, 0) trend None\nCS-Aa-3MO checking (4, 1, 0) trend None\nCS-Aa-3MO checking (5, 1, 0) trend None\nCS-Aa-3MO checking (6, 1, 0) trend None\nCS-Aa-3MO checking (7, 1, 0) trend None\nCS-Aa-3MO checking (8, 1, 0) trend None\nCS-Aa-3MO checking (9, 1, 0) trend None\nCS-Aa-3MO checking (10, 1, 0) trend None\nCS-Aa-3MO minimum parameters model for AR: 4 relative likelihoods [[2.77028402e-01]\n [8.77836387e-02]\n [3.61585562e-01]\n [1.00000000e+00]\n [2.45744637e-01]\n [2.19714473e-02]\n [3.55217633e-03]\n [4.83349266e-04]\n [1.10060064e-04]\n [9.89669085e-06]]\nCS-Aa-1YR checking (1, 1, 0) trend None\nCS-Aa-1YR checking (2, 1, 0) trend None\nCS-Aa-1YR checking (3, 1, 0) trend None\nCS-Aa-1YR checking (4, 1, 0) trend None\nCS-Aa-1YR checking (5, 1, 0) trend None\nCS-Aa-1YR checking (6, 1, 0) trend None\nCS-Aa-1YR checking (7, 1, 0) trend None\nCS-Aa-1YR checking (8, 1, 0) trend None\nCS-Aa-1YR checking (9, 1, 0) trend None\nCS-Aa-1YR checking (10, 1, 0) trend None\nCS-Aa-1YR minimum parameters model for AR: 1 relative likelihoods [[1.00000000e+00]\n [2.52595222e-01]\n [1.79617345e-01]\n [1.62061453e-01]\n [2.45692612e-02]\n [2.26853589e-03]\n [3.32369439e-04]\n [3.93275524e-05]\n [5.38922145e-06]\n [4.80173671e-07]]\nCS-Aa-5YR checking (1, 1, 0) trend None\nCS-Aa-5YR checking (2, 1, 0) trend None\nCS-Aa-5YR checking (3, 1, 0) trend None\nCS-Aa-5YR checking (4, 1, 0) trend None\nCS-Aa-5YR checking (5, 1, 0) trend None\nCS-Aa-5YR checking (6, 1, 0) trend None\nCS-Aa-5YR checking (7, 1, 0) trend None\nCS-Aa-5YR checking (8, 1, 0) trend None\nCS-Aa-5YR checking (9, 1, 0) trend None\nCS-Aa-5YR checking (10, 1, 0) trend None\nCS-Aa-5YR minimum parameters model for AR: 1 relative likelihoods [[1.00000000e+00]\n [9.12377352e-02]\n [2.74401887e-02]\n [2.72926939e-03]\n [3.62554948e-04]\n [3.71883365e-05]\n [3.31354566e-06]\n [5.30748236e-07]\n [1.53214192e-07]\n [1.47157357e-08]]\nCS-A-3MO checking (1, 1, 0) trend None\nCS-A-3MO checking (2, 1, 0) trend None\nCS-A-3MO checking (3, 1, 0) trend None\nCS-A-3MO checking (4, 1, 0) trend None\nCS-A-3MO checking (5, 1, 0) trend None\nCS-A-3MO checking (6, 1, 0) trend None\nCS-A-3MO checking (7, 1, 0) trend None\nCS-A-3MO checking (8, 1, 0) trend None\nCS-A-3MO checking (9, 1, 0) trend None\nCS-A-3MO checking (10, 1, 0) trend None\nCS-A-3MO minimum parameters model for AR: 1 relative likelihoods [[1.00000000e+00]\n [2.15866144e-01]\n [5.98856146e-02]\n [3.29397966e-01]\n [5.44648336e-02]\n [1.21725037e-02]\n [1.17992288e-03]\n [2.96785077e-04]\n [6.42427269e-05]\n [6.47828133e-06]]\nCS-A-1YR checking (1, 1, 0) trend None\nCS-A-1YR checking (2, 1, 0) trend None\nCS-A-1YR checking (3, 1, 0) trend None\nCS-A-1YR checking (4, 1, 0) trend None\nCS-A-1YR checking (5, 1, 0) trend None\nCS-A-1YR checking (6, 1, 0) trend None\nCS-A-1YR checking (7, 1, 0) trend None\nCS-A-1YR checking (8, 1, 0) trend None\nCS-A-1YR checking (9, 1, 0) trend None\nCS-A-1YR checking (10, 1, 0) trend None\nCS-A-1YR minimum parameters model for AR: 1 relative likelihoods [[1.00000000e+00]\n [1.11345115e-01]\n [2.01965283e-02]\n [7.24828926e-02]\n [6.58217815e-03]\n [1.07135276e-03]\n [1.08173631e-04]\n [2.25837227e-05]\n [5.96817607e-06]\n [5.37329792e-07]]\nCS-A-5YR checking (1, 1, 0) trend None\nCS-A-5YR checking (2, 1, 0) trend None\nCS-A-5YR checking (3, 1, 0) trend None\nCS-A-5YR checking (4, 1, 0) trend None\nCS-A-5YR checking (5, 1, 0) trend None\nCS-A-5YR checking (6, 1, 0) trend None\nCS-A-5YR checking (7, 1, 0) trend None\nCS-A-5YR checking (8, 1, 0) trend None\nCS-A-5YR checking (9, 1, 0) trend None\nCS-A-5YR checking (10, 1, 0) trend None\nCS-A-5YR minimum parameters model for AR: 1 relative likelihoods [[1.00000000e+00]\n [1.52783034e-01]\n [5.16390424e-02]\n [1.18599300e-02]\n [1.06693803e-03]\n [1.32723325e-04]\n [1.23569626e-05]\n [1.44947878e-06]\n [1.88461665e-07]\n [1.70814429e-08]]\nCS-Baa-3MO checking (1, 1, 0) trend None\nCS-Baa-3MO checking (2, 1, 0) trend None\nCS-Baa-3MO checking (3, 1, 0) trend None\nCS-Baa-3MO checking (4, 1, 0) trend None\nCS-Baa-3MO checking (5, 1, 0) trend None\nCS-Baa-3MO checking (6, 1, 0) trend None\nCS-Baa-3MO checking (7, 1, 0) trend None\nCS-Baa-3MO checking (8, 1, 0) trend None\nCS-Baa-3MO checking (9, 1, 0) trend None\nCS-Baa-3MO checking (10, 1, 0) trend None\nCS-Baa-3MO minimum parameters model for AR: 4 relative likelihoods [[1.53355997e-01]\n [2.25767611e-01]\n [1.93880071e-01]\n [1.00000000e+00]\n [1.05151326e-01]\n [2.58171875e-02]\n [7.00208958e-03]\n [4.50510136e-03]\n [2.80964652e-03]\n [2.90350664e-04]]\nCS-Baa-1YR checking (1, 1, 0) trend None\nCS-Baa-1YR checking (2, 1, 0) trend None\nCS-Baa-1YR checking (3, 1, 0) trend None\nCS-Baa-1YR checking (4, 1, 0) trend None\nCS-Baa-1YR checking (5, 1, 0) trend None\nCS-Baa-1YR checking (6, 1, 0) trend None\nCS-Baa-1YR checking (7, 1, 0) trend None\nCS-Baa-1YR checking (8, 1, 0) trend None\nCS-Baa-1YR checking (9, 1, 0) trend None\nCS-Baa-1YR checking (10, 1, 0) trend None\nCS-Baa-1YR minimum parameters model for AR: 1 relative likelihoods [[1.00000000e+00]\n [4.51966336e-01]\n [1.88382643e-01]\n [1.03265027e-01]\n [9.56601374e-03]\n [1.48710456e-03]\n [3.78617548e-04]\n [1.28407252e-04]\n [6.36649974e-05]\n [1.19164068e-05]]\nCS-Baa-5YR checking (1, 1, 0) trend None\nCS-Baa-5YR checking (2, 1, 0) trend None\nCS-Baa-5YR checking (3, 1, 0) trend None\nCS-Baa-5YR checking (4, 1, 0) trend None\nCS-Baa-5YR checking (5, 1, 0) trend None\nCS-Baa-5YR checking (6, 1, 0) trend None\nCS-Baa-5YR checking (7, 1, 0) trend None\nCS-Baa-5YR checking (8, 1, 0) trend None\nCS-Baa-5YR checking (9, 1, 0) trend None\nCS-Baa-5YR checking (10, 1, 0) trend None\nCS-Baa-5YR minimum parameters model for AR: 1 relative likelihoods [[1.00000000e+00]\n [8.92892837e-02]\n [4.12935805e-02]\n [4.23640618e-03]\n [4.03896770e-04]\n [4.14330624e-05]\n [7.94017915e-06]\n [8.57482568e-07]\n [1.34260785e-07]\n [1.27648531e-08]]\nTB-3MO-TY checking (1, 1, 0) trend None\nTB-3MO-TY checking (2, 1, 0) trend None\nTB-3MO-TY checking (3, 1, 0) trend None\nTB-3MO-TY checking (4, 1, 0) trend None\nTB-3MO-TY checking (5, 1, 0) trend None\nTB-3MO-TY checking (6, 1, 0) trend None\nTB-3MO-TY checking (7, 1, 0) trend None\nTB-3MO-TY checking (8, 1, 0) trend None\nTB-3MO-TY checking (9, 1, 0) trend None\nTB-3MO-TY checking (10, 1, 0) trend None\n/Users/Justin/Desktop/git-hub-justin-grigg/testPythonDissAnalysis/env/lib/python3.8/site-packages/statsmodels/base/model.py:566: ConvergenceWarning: Maximum Likelihood optimization failed to converge. Check mle_retvals\n  warnings.warn(\"Maximum Likelihood optimization failed to \"\nTB-3MO-TY minimum parameters model for AR: 3 relative likelihoods [[4.53616028e-02]\n [1.13496299e-01]\n [1.00000000e+00]\n [1.78253595e-01]\n [1.70053277e-02]\n [3.44217259e-02]\n [5.31755668e-03]\n [1.71834603e-03]\n [1.68022614e-04]\n [2.93069108e-05]]\nTB-1YR-TY checking (1, 1, 0) trend None\nTB-1YR-TY checking (2, 1, 0) trend None\nTB-1YR-TY checking (3, 1, 0) trend None\nTB-1YR-TY checking (4, 1, 0) trend None\nTB-1YR-TY checking (5, 1, 0) trend None\nTB-1YR-TY checking (6, 1, 0) trend None\nTB-1YR-TY checking (7, 1, 0) trend None\nTB-1YR-TY checking (8, 1, 0) trend None\nTB-1YR-TY checking (9, 1, 0) trend None\nTB-1YR-TY checking (10, 1, 0) trend None\nTB-1YR-TY minimum parameters model for AR: 3 relative likelihoods [[7.65064496e-04]\n [2.83820528e-04]\n [1.00000000e+00]\n [2.53061711e-01]\n [2.91629039e-02]\n [2.65342477e-03]\n [2.63175529e-04]\n [2.37654071e-05]\n [2.11719466e-06]\n [3.37967483e-07]]\nTB-5YR-TY checking (1, 1, 0) trend None\nTB-5YR-TY checking (2, 1, 0) trend None\nTB-5YR-TY checking (3, 1, 0) trend None\nTB-5YR-TY checking (4, 1, 0) trend None\nTB-5YR-TY checking (5, 1, 0) trend None\nTB-5YR-TY checking (6, 1, 0) trend None\nTB-5YR-TY checking (7, 1, 0) trend None\nTB-5YR-TY checking (8, 1, 0) trend None\nTB-5YR-TY checking (9, 1, 0) trend None\nTB-5YR-TY checking (10, 1, 0) trend None\nTB-5YR-TY minimum parameters model for AR: 1 relative likelihoods [[1.00000000e+00]\n [8.92145290e-02]\n [2.19007921e-02]\n [2.09331000e-03]\n [3.56853441e-04]\n [5.05650213e-05]\n [4.71095744e-06]\n [4.74208874e-07]\n [4.56242685e-08]\n [4.18071418e-09]]\n        column trend minlag         BIC        pvalue     tstat\n0   CS-Aaa-3MO  None      2    4.581578  2.643794e-11  6.665159\n1   CS-Aaa-1YR  None      2  -22.262591  1.199283e-21  9.558109\n2   CS-Aaa-5YR  None      4  -53.878278  1.646910e-14  7.675565\n3    CS-Aa-3MO  None      4  -72.917370  1.313587e-03 -3.212995\n4    CS-Aa-1YR  None      1 -106.927673  1.000649e-02  2.575605\n5    CS-Aa-5YR  None      1  -69.258735  3.014491e-08  5.540593\n6     CS-A-3MO  None      1  -52.609802  7.934052e-03  2.654863\n7     CS-A-1YR  None      1  -90.050669  1.556407e-06  4.803853\n8     CS-A-5YR  None      1  -42.700158  2.362041e-11  6.681689\n9   CS-Baa-3MO  None      4  -29.841472  2.390823e-04 -3.673680\n10  CS-Baa-1YR  None      1  -50.172419  2.686807e-11  6.662788\n11  CS-Baa-5YR  None      1   -5.351451  3.094355e-15  7.887041\n12   TB-3MO-TY  None      3 -338.247074  7.380352e-04  3.375045\n13   TB-1YR-TY  None      3 -273.431647  4.680075e-08  5.463056\n14   TB-5YR-TY  None      1  -29.866646  6.904159e-01 -0.398291\n"
    }
   ],
   "source": [
    "def lag_ARIMA_selection(column, colname, trend=None):\n",
    "    '''\n",
    "    get optimal lag using ARIMA\n",
    "    '''\n",
    "    from statsmodels.tsa.arima.model import ARIMA\n",
    "    import numpy as np\n",
    "\n",
    "    endog = column\n",
    "\n",
    "    num = 10\n",
    "    info_crit = np.zeros(shape=(num, 1))\n",
    "    for i in range(num):\n",
    "        order = (i + 1, 1, 0)\n",
    "        # model_fit = VAR(endog=endog).fit(maxlags=i + 1, verbose=True)\n",
    "        print(f\"{colname} checking {order} trend {trend}\")\n",
    "        model_fit = ARIMA(endog=endog, exog=None, order=order, trend=trend).fit()\n",
    "        # AIC, BIC, HQIC\n",
    "        # print(f'order: {order} bic: {model_fit.bic}')\n",
    "        ''' ConvergenceWarning: Maximum Likelihood optimization failed to converge. Check mle_retvals '''\n",
    "        info_crit[i] = model_fit.bic  # update poistion with info criteria result\n",
    "\n",
    "    # print(f\"BIC critical values:\\n{info_crit}\")\n",
    "    \n",
    "    info_crit_min = np.min(info_crit)\n",
    "    model_min = np.argmin(info_crit)    # returns first position of minimum value\n",
    "    # print(f\"returns first position of minimum value:\\n{model_min}\")\n",
    "\n",
    "    relative_likelihood = (np.exp((info_crit_min - info_crit) / 2))\n",
    "    \n",
    "    # print(f\"relative likelihood:\\n{relative_likelihood}\")\n",
    "    r = { 'column': colname, 'trend': trend, 'minlag': model_min + 1}\n",
    "\n",
    "    model_fit = ARIMA(endog=endog, order=(model_min + 1, 1, 0), trend=trend).fit()\n",
    "    # print(model_fit.summary())\n",
    "    # print(f\"pvalues:\\n{model_fit.pvalues}\")\n",
    "    # print(f\"tvalues:\\n{model_fit.tvalues}\")\n",
    "    # print(f\"BIC: {info_crit_min} AR({model_min+1}) pvalue: {model_fit.pvalues[model_min]} tstat: {model_fit.tvalues[model_min]}\")\n",
    "\n",
    "    r = { 'column': colname, 'trend': trend, 'minlag': model_min + 1, \"BIC\": info_crit_min, \"pvalue\": model_fit.pvalues[model_min], \"tstat\": model_fit.tvalues[model_min] }\n",
    "    return r, model_min + 1, relative_likelihood\n",
    "\n",
    "df = get_ytw()\n",
    "\n",
    "# from statsmodels.tsa.arima.model import ARIMA\n",
    "# print(ARIMA(endog=df['CS-Aaa-3MO'], order=(3, 0, 0), trend=None).fit().summary())\n",
    "\n",
    "import pandas as pd\n",
    "t = pd.DataFrame(columns=['column', 'trend', 'minlag', 'BIC', 'pvalue', 'tstat'])\n",
    "\n",
    "rating = [\"Aaa\", \"Aa\", \"A\", \"Baa\"]\n",
    "maturity = [\"3MO\", \"1YR\", \"5YR\"]\n",
    "\n",
    "for r in rating:\n",
    "    for m in maturity:\n",
    "        colname, trend = f\"CS-{r}-{m}\", None # check for ConvergenceWarning on 'ct'\n",
    "        result, min_model, relative_likelihood = lag_ARIMA_selection(column=df[colname], colname=colname, trend=trend)\n",
    "        print(f\"{colname} minimum parameters model for AR: {min_model} relative likelihoods {relative_likelihood}\")\n",
    "        t = t.append(result, ignore_index=True)\n",
    "\n",
    "for m in maturity:\n",
    "    colname, trend = f\"TB-{m}-TY\", None # check for ConvergenceWarning on 'ct'\n",
    "    result, min_model, relative_likelihood = lag_ARIMA_selection(column=df[colname], colname=colname, trend=trend)\n",
    "    print(f\"{colname} minimum parameters model for AR: {min_model} relative likelihoods {relative_likelihood}\")\n",
    "    t = t.append(result, ignore_index=True)\n",
    "\n",
    "print(t)\n"
   ]
  }
 ]
}